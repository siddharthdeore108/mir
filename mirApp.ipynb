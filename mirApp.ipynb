{
 "cells": [
  {
   "cell_type": "code",
   "execution_count": 1,
   "metadata": {
    "colab": {
     "base_uri": "https://localhost:8080/"
    },
    "id": "5yR2miulBMwt",
    "outputId": "5da0d30a-28e2-478c-d855-4f04046abcf7"
   },
   "outputs": [
    {
     "name": "stdout",
     "output_type": "stream",
     "text": [
      "Requirement already satisfied: pandas in /usr/local/lib/python3.10/dist-packages (2.2.2)\n",
      "Requirement already satisfied: numpy in /usr/local/lib/python3.10/dist-packages (1.26.4)\n",
      "Requirement already satisfied: openpyxl in /usr/local/lib/python3.10/dist-packages (3.1.5)\n",
      "Requirement already satisfied: python-dateutil>=2.8.2 in /usr/local/lib/python3.10/dist-packages (from pandas) (2.8.2)\n",
      "Requirement already satisfied: pytz>=2020.1 in /usr/local/lib/python3.10/dist-packages (from pandas) (2024.2)\n",
      "Requirement already satisfied: tzdata>=2022.7 in /usr/local/lib/python3.10/dist-packages (from pandas) (2024.2)\n",
      "Requirement already satisfied: et-xmlfile in /usr/local/lib/python3.10/dist-packages (from openpyxl) (2.0.0)\n",
      "Requirement already satisfied: six>=1.5 in /usr/local/lib/python3.10/dist-packages (from python-dateutil>=2.8.2->pandas) (1.16.0)\n"
     ]
    }
   ],
   "source": [
    "pip install pandas numpy openpyxl\n"
   ]
  },
  {
   "cell_type": "code",
   "execution_count": 7,
   "metadata": {
    "colab": {
     "base_uri": "https://localhost:8080/"
    },
    "id": "nKbXA9_EBhxY",
    "outputId": "1ebfb81e-a090-4ad3-d483-9b2bf6947a54"
   },
   "outputs": [
    {
     "name": "stdout",
     "output_type": "stream",
     "text": [
      "Reference Dimensions Dictionary:\n",
      "{nan: {'Length': nan, 'Width': nan, 'Height': nan}, '400x150x200 (6″)': {'Length': 400.0, 'Width': 150.0, 'Height': 200.0}, '400x100x200 (4″)': {'Length': 400.0, 'Width': 100.0, 'Height': 200.0}, '400x200x200 (8″)': {'Length': 400.0, 'Width': 200.0, 'Height': 200.0}}\n",
      "\n",
      "Processed Inspection Data:\n",
      "    MIR No          Entry Date Checked By Type of Material  \\\n",
      "0      NaN                 NaT        NaN              NaN   \n",
      "1   3020.0 2024-11-14 11:50:00    gowtham     Solid Blocks   \n",
      "2   3027.0 2024-11-15 10:50:00    gowtham     Solid Blocks   \n",
      "3   3030.0 2024-11-15 12:45:00    gowtham     Solid Blocks   \n",
      "4   3035.0 2024-11-16 14:35:00    gowtham     Solid Blocks   \n",
      "5   3040.0 2024-11-18 14:20:00    gowtham     Solid Blocks   \n",
      "6   3046.0 2024-11-19 12:48:00    gowtham     Solid Blocks   \n",
      "7   3051.0 2024-11-20 09:45:00    gowtham     Solid Blocks   \n",
      "8   3054.0 2024-11-20 12:30:00    gowtham     Solid Blocks   \n",
      "9   3055.0 2024-11-20 12:50:00    gowtham     Solid Blocks   \n",
      "10  3058.0 2024-11-21 09:00:00    gowtham     Solid Blocks   \n",
      "11  3059.0 2024-11-21 23:55:00    gowtham     Solid Blocks   \n",
      "12  3060.0 2024-11-21 12:10:00    gowtham     Solid Blocks   \n",
      "13  3067.0 2024-11-22 09:50:00    gowtham     Solid Blocks   \n",
      "14  3068.0 2024-11-22 09:55:00    gowtham     Solid Blocks   \n",
      "15  3069.0 2024-11-22 10:00:00    gowtham     Solid Blocks   \n",
      "16  3074.0 2024-11-23 11:30:00    gowtham     Solid Blocks   \n",
      "17  3075.0 2024-11-25 09:50:00    gowtham     Solid Blocks   \n",
      "18  3081.0 2024-11-26 11:30:00    gowtham     Solid Blocks   \n",
      "19  3082.0 2024-11-26 15:00:00    gowtham     Solid Blocks   \n",
      "20  3083.0 2024-11-26 15:05:00    gowtham     Solid Blocks   \n",
      "21  3085.0 2024-11-27 10:30:00    gowtham     Solid Blocks   \n",
      "22  3086.0 2024-11-27 10:25:00    gowtham     Solid Blocks   \n",
      "\n",
      "                  Supplier Invoice Number Invoice Date  Gate Entry No  \\\n",
      "0                      NaN            NaN          NaT            NaN   \n",
      "1   Sri Garuda Enterprises     1263/24-25   2024-11-14         4600.0   \n",
      "2   Sri Garuda Enterprises     1265/24-25   2024-11-15         4613.0   \n",
      "3   Sri Garuda Enterprises     1266/24-25   2024-11-15         4616.0   \n",
      "4   Sri Garuda Enterprises     1269/24-25   2024-11-16         4626.0   \n",
      "5   Sri Garuda Enterprises     1271/24-25   2024-11-18         4635.0   \n",
      "6   Sri Garuda Enterprises     1274/24-25   2024-11-19         4655.0   \n",
      "7   Sri Garuda Enterprises     1277/24-25   2024-11-20         4665.0   \n",
      "8   Sri Garuda Enterprises     1278/24-28   2024-11-20         4680.0   \n",
      "9   Sri Garuda Enterprises     1279/24-25   2024-11-20         4681.0   \n",
      "10  Sri Garuda Enterprises     1282/24-25   2024-11-21         4689.0   \n",
      "11  Sri Garuda Enterprises     1283/24-25   2024-11-21         4690.0   \n",
      "12  Sri Garuda Enterprises     1284/24-25   2024-11-21         4691.0   \n",
      "13  Sri Garuda Enterprises     1288/24-25   2024-11-22         4713.0   \n",
      "14  Sri Garuda Enterprises     1289/24-28   2024-11-22         4712.0   \n",
      "15  Sri Garuda Enterprises     1287/24-25   2024-11-22         4711.0   \n",
      "16  Sri Garuda Enterprises     1291/24-25   2024-11-23         4731.0   \n",
      "17  Sri Garuda Enterprises     1294/24-25   2024-11-25         4740.0   \n",
      "18  Sri Garuda Enterprises     1301/24-25   2024-11-26         4758.0   \n",
      "19  Sri Garuda Enterprises     1305/24-25   2024-11-26         4760.0   \n",
      "20  Sri Garuda Enterprises     1304/24-25   2024-11-26         4761.0   \n",
      "21  Sri Garuda Enterprises     1307/24-25   2024-11-27         4765.0   \n",
      "22  Sri Garuda Enterprises     1308/24-25   2024-11-27         4764.0   \n",
      "\n",
      "     Block Type Name  Reference Length  ...  Compressive Strength (N/Sq.mm).1  \\\n",
      "0                NaN               NaN  ...                               NaN   \n",
      "1   400x150x200 (6″)             400.0  ...                              6.71   \n",
      "2   400x100x200 (4″)             400.0  ...                              6.07   \n",
      "3   400x150x200 (6″)             400.0  ...                              6.05   \n",
      "4   400x150x200 (6″)             400.0  ...                              7.11   \n",
      "5   400x150x200 (6″)             400.0  ...                              7.09   \n",
      "6   400x150x200 (6″)             400.0  ...                              5.58   \n",
      "7   400x150x200 (6″)             400.0  ...                              6.11   \n",
      "8   400x200x200 (8″)             400.0  ...                              7.01   \n",
      "9   400x200x200 (8″)             400.0  ...                              6.25   \n",
      "10  400x150x200 (6″)             400.0  ...                              6.12   \n",
      "11  400x200x200 (8″)             400.0  ...                              5.96   \n",
      "12  400x200x200 (8″)             400.0  ...                              6.58   \n",
      "13  400x150x200 (6″)             400.0  ...                              6.39   \n",
      "14  400x150x200 (6″)             400.0  ...                              4.75   \n",
      "15  400x200x200 (8″)             400.0  ...                              7.96   \n",
      "16  400x200x200 (8″)             400.0  ...                              5.87   \n",
      "17  400x150x200 (6″)             400.0  ...                              5.89   \n",
      "18  400x200x200 (8″)             400.0  ...                              6.99   \n",
      "19  400x150x200 (6″)             400.0  ...                              4.99   \n",
      "20  400x100x200 (4″)             400.0  ...                              4.88   \n",
      "21  400x200x200 (8″)             400.0  ...                               NaN   \n",
      "22  400x200x200 (8″)             400.0  ...                              5.99   \n",
      "\n",
      "    Actual Length.2  Actual Width.2 Actual Height.2 Weight of Block in KG.2  \\\n",
      "0               NaN             NaN             NaN                     NaN   \n",
      "1             400.0           150.0           198.0                  26.415   \n",
      "2             400.0           100.0           200.0                  18.020   \n",
      "3             400.0           150.0           203.0                  26.980   \n",
      "4             400.0           150.0           198.0                  26.880   \n",
      "5             400.0           150.0           200.0                  27.135   \n",
      "6             400.0           150.0           200.0                  27.350   \n",
      "7             400.0           150.0           198.0                  26.585   \n",
      "8             400.0           200.0           198.0                  35.985   \n",
      "9             400.0           200.0           201.0                  36.450   \n",
      "10            400.0           150.0           197.0                  26.850   \n",
      "11            400.0           200.0           202.0                  36.850   \n",
      "12            400.0           200.0           200.0                  35.900   \n",
      "13            400.0           150.0           197.0                  26.255   \n",
      "14            400.0           150.0           199.0                  27.455   \n",
      "15            400.0           200.0           200.0                  36.585   \n",
      "16            400.0           200.0           201.0                  36.580   \n",
      "17            400.0           150.0           197.0                  27.255   \n",
      "18            400.0           200.0           200.0                  36.255   \n",
      "19            400.0           150.0           200.0                  26.350   \n",
      "20            400.0           100.0           198.0                  17.985   \n",
      "21            400.0           200.0           207.0                     NaN   \n",
      "22            400.0           200.0           198.0                  36.220   \n",
      "\n",
      "    Compressive Strength (N/Sq.mm).2 Length Status Width Status Height Status  \\\n",
      "0                                NaN          Fail         Fail          Fail   \n",
      "1                               6.48          Pass         Pass          Pass   \n",
      "2                               6.95          Pass         Pass          Pass   \n",
      "3                               7.06          Pass         Pass          Pass   \n",
      "4                               6.32          Pass         Pass          Pass   \n",
      "5                               6.65          Pass         Pass          Pass   \n",
      "6                               6.08          Pass         Pass          Pass   \n",
      "7                               7.08          Pass         Pass          Pass   \n",
      "8                               5.23          Pass         Pass          Pass   \n",
      "9                               6.70          Pass         Pass          Pass   \n",
      "10                              4.85          Pass         Pass          Pass   \n",
      "11                              6.11          Pass         Pass          Pass   \n",
      "12                              6.89          Pass         Pass          Pass   \n",
      "13                              5.87          Pass         Pass          Pass   \n",
      "14                              6.08          Pass         Pass          Pass   \n",
      "15                              7.51          Pass         Pass          Pass   \n",
      "16                              6.11          Pass         Pass          Pass   \n",
      "17                              5.44          Pass         Pass          Pass   \n",
      "18                              7.52          Pass         Pass          Pass   \n",
      "19                              5.78          Pass         Pass          Pass   \n",
      "20                              4.75          Pass         Pass          Pass   \n",
      "21                               NaN          Pass         Pass          Fail   \n",
      "22                              6.17          Pass         Pass          Pass   \n",
      "\n",
      "   Material Status  \n",
      "0             Fail  \n",
      "1             Pass  \n",
      "2             Pass  \n",
      "3             Pass  \n",
      "4             Pass  \n",
      "5             Pass  \n",
      "6             Pass  \n",
      "7             Pass  \n",
      "8             Pass  \n",
      "9             Pass  \n",
      "10            Pass  \n",
      "11            Pass  \n",
      "12            Pass  \n",
      "13            Pass  \n",
      "14            Pass  \n",
      "15            Pass  \n",
      "16            Pass  \n",
      "17            Pass  \n",
      "18            Pass  \n",
      "19            Pass  \n",
      "20            Pass  \n",
      "21            Fail  \n",
      "22            Pass  \n",
      "\n",
      "[23 rows x 42 columns]\n",
      "Processed data saved to /path_to_save_processed_data.xlsx\n"
     ]
    }
   ],
   "source": [
    "import pandas as pd\n",
    "\n",
    "# Upload and read the Excel file\n",
    "uploaded_file_path = \"solid_block2.xlsx\"  # Update this with your actual file path\n",
    "inspection_data = pd.read_excel(uploaded_file_path, sheet_name=\"Solid Blocks\")  # Reading inspection data\n",
    "rules_data = pd.read_excel(uploaded_file_path, sheet_name=\"Rules\")  # Reading rules\n",
    "\n",
    "# Step 1: Create the dictionary from the Solid Blocks sheet\n",
    "reference_dimensions = {}\n",
    "for _, row in inspection_data.iterrows():\n",
    "    block_type = row[\"Block Type Name\"]\n",
    "    reference_dimensions[block_type] = {\n",
    "        \"Length\": row[\"Reference Length\"],\n",
    "        \"Width\": row[\"Reference Width\"],\n",
    "        \"Height\": row[\"Reference Height\"]\n",
    "    }\n",
    "\n",
    "# Print the created reference_dimensions dictionary\n",
    "print(\"Reference Dimensions Dictionary:\")\n",
    "print(reference_dimensions)\n",
    "\n",
    "# Step 2: Add reference dimensions to the inspection data using the dictionary\n",
    "inspection_data[\"Reference Length\"] = inspection_data[\"Block Type Name\"].map(\n",
    "    lambda x: reference_dimensions.get(x, {}).get(\"Length\", None)\n",
    ")\n",
    "inspection_data[\"Reference Width\"] = inspection_data[\"Block Type Name\"].map(\n",
    "    lambda x: reference_dimensions.get(x, {}).get(\"Width\", None)\n",
    ")\n",
    "inspection_data[\"Reference Height\"] = inspection_data[\"Block Type Name\"].map(\n",
    "    lambda x: reference_dimensions.get(x, {}).get(\"Height\", None)\n",
    ")\n",
    "\n",
    "# Step 3: Define tolerances from the rules (e.g., ±5 mm for Length, Width, Height)\n",
    "length_tolerance = 5\n",
    "width_tolerance = 5\n",
    "height_tolerance = 5\n",
    "\n",
    "# Step 4: Check if the inspected dimensions are within the tolerances\n",
    "inspection_data[\"Length Status\"] = inspection_data.apply(\n",
    "    lambda row: \"Pass\" if abs(row[\"Actual Length\"] - row[\"Reference Length\"]) <= length_tolerance else \"Fail\", axis=1\n",
    ")\n",
    "inspection_data[\"Width Status\"] = inspection_data.apply(\n",
    "    lambda row: \"Pass\" if abs(row[\"Actual Width\"] - row[\"Reference Width\"]) <= width_tolerance else \"Fail\", axis=1\n",
    ")\n",
    "inspection_data[\"Height Status\"] = inspection_data.apply(\n",
    "    lambda row: \"Pass\" if abs(row[\"Actual Height\"] - row[\"Reference Height\"]) <= height_tolerance else \"Fail\", axis=1\n",
    ")\n",
    "\n",
    "# Step 5: Final material pass/fail based on all dimensions\n",
    "inspection_data[\"Material Status\"] = inspection_data.apply(\n",
    "    lambda row: \"Pass\" if row[\"Length Status\"] == \"Pass\" and row[\"Width Status\"] == \"Pass\" and row[\"Height Status\"] == \"Pass\" else \"Fail\", axis=1\n",
    ")\n",
    "\n",
    "# Display the final processed data\n",
    "print(\"\\nProcessed Inspection Data:\")\n",
    "print(inspection_data)\n",
    "\n",
    "# Export the results to a new Excel file\n",
    "output_file_path = \"/path_to_save_processed_data.xlsx\"  # Specify the output path\n",
    "inspection_data.to_excel(output_file_path, index=False)\n",
    "print(f\"Processed data saved to {output_file_path}\")\n",
    "\n"
   ]
  },
  {
   "cell_type": "code",
   "execution_count": 8,
   "metadata": {
    "colab": {
     "base_uri": "https://localhost:8080/"
    },
    "id": "vdFIFPdlLaD1",
    "outputId": "12e3914d-abef-4bf0-8129-36266dab1d06"
   },
   "outputs": [
    {
     "name": "stdout",
     "output_type": "stream",
     "text": [
      "Requirement already satisfied: openai in /usr/local/lib/python3.10/dist-packages (1.54.4)\n",
      "Requirement already satisfied: anyio<5,>=3.5.0 in /usr/local/lib/python3.10/dist-packages (from openai) (3.7.1)\n",
      "Requirement already satisfied: distro<2,>=1.7.0 in /usr/local/lib/python3.10/dist-packages (from openai) (1.9.0)\n",
      "Requirement already satisfied: httpx<1,>=0.23.0 in /usr/local/lib/python3.10/dist-packages (from openai) (0.27.2)\n",
      "Requirement already satisfied: jiter<1,>=0.4.0 in /usr/local/lib/python3.10/dist-packages (from openai) (0.7.1)\n",
      "Requirement already satisfied: pydantic<3,>=1.9.0 in /usr/local/lib/python3.10/dist-packages (from openai) (2.9.2)\n",
      "Requirement already satisfied: sniffio in /usr/local/lib/python3.10/dist-packages (from openai) (1.3.1)\n",
      "Requirement already satisfied: tqdm>4 in /usr/local/lib/python3.10/dist-packages (from openai) (4.66.6)\n",
      "Requirement already satisfied: typing-extensions<5,>=4.11 in /usr/local/lib/python3.10/dist-packages (from openai) (4.12.2)\n",
      "Requirement already satisfied: idna>=2.8 in /usr/local/lib/python3.10/dist-packages (from anyio<5,>=3.5.0->openai) (3.10)\n",
      "Requirement already satisfied: exceptiongroup in /usr/local/lib/python3.10/dist-packages (from anyio<5,>=3.5.0->openai) (1.2.2)\n",
      "Requirement already satisfied: certifi in /usr/local/lib/python3.10/dist-packages (from httpx<1,>=0.23.0->openai) (2024.8.30)\n",
      "Requirement already satisfied: httpcore==1.* in /usr/local/lib/python3.10/dist-packages (from httpx<1,>=0.23.0->openai) (1.0.7)\n",
      "Requirement already satisfied: h11<0.15,>=0.13 in /usr/local/lib/python3.10/dist-packages (from httpcore==1.*->httpx<1,>=0.23.0->openai) (0.14.0)\n",
      "Requirement already satisfied: annotated-types>=0.6.0 in /usr/local/lib/python3.10/dist-packages (from pydantic<3,>=1.9.0->openai) (0.7.0)\n",
      "Requirement already satisfied: pydantic-core==2.23.4 in /usr/local/lib/python3.10/dist-packages (from pydantic<3,>=1.9.0->openai) (2.23.4)\n"
     ]
    }
   ],
   "source": [
    "pip install openai\n"
   ]
  },
  {
   "cell_type": "code",
   "execution_count": null,
   "metadata": {
    "id": "YeYaiMUcM5bI"
   },
   "outputs": [],
   "source": [
    "import openai\n",
    "import pandas as pd\n",
    "\n",
    "# Load processed data\n",
    "inspection_data = pd.read_excel(\"solid_block2.xlsx\")  # Replace with your actual file path\n",
    "\n",
    "# Set OpenAI API Key\n",
    "openai.api_key = \"insert\"  # Replace with your actual OpenAI API key\n",
    "\n",
    "# Define a function to handle queries\n",
    "def query_inspection_data(question):\n",
    "    # Convert the inspection data to a string format for the model\n",
    "    data_context = inspection_data.to_string(index=False)\n",
    "\n",
    "    # Ensure that the query is asking for material pass/fail counts\n",
    "    if \"how many materials passed inspection\" in question.lower():\n",
    "        # Count the number of materials that passed inspection\n",
    "        pass_count = inspection_data[inspection_data['Status'] == 'Pass'].shape[0]\n",
    "        return f\"Number of materials that passed inspection: {pass_count}\"\n",
    "\n",
    "    # If it's not a pass/fail query, continue with the normal chat functionality\n",
    "    messages = [\n",
    "        {\"role\": \"system\", \"content\": \"You are an intelligent assistant analyzing material inspection data.\"},\n",
    "        {\"role\": \"user\", \"content\": f\"The data is as follows:\\n{data_context}\\n\\nQuestion: {question}\"}\n",
    "    ]\n",
    "\n",
    "    # Use OpenAI's ChatGPT model\n",
    "    response = openai.chat.completions.create(\n",
    "        model=\"gpt-3.5-turbo\",  # You can also use \"gpt-4\" if available\n",
    "        messages=messages,\n",
    "        max_tokens=150,  # Limit response size\n",
    "        temperature=0,   # Controls randomness (0 = deterministic)\n",
    "    )\n",
    "\n",
    "    # Extract and return the response\n",
    "    return response.choices[0].message.content.strip()\n",
    "\n",
    "# Example queries\n",
    "#question = \"How many materials passed inspection?\"\n",
    "#answer = query_inspection_data(question)\n",
    "#print(\"Q:\", question)\n",
    "#print(\"A:\", answer)\n"
   ]
  },
  {
   "cell_type": "markdown",
   "metadata": {
    "id": "7hwHQFs3TsvJ"
   },
   "source": [
    "**UI Design**"
   ]
  },
  {
   "cell_type": "code",
   "execution_count": 24,
   "metadata": {
    "colab": {
     "base_uri": "https://localhost:8080/"
    },
    "id": "r4tx_QppTvCe",
    "outputId": "efedffad-20fe-4b57-f392-292cc456d087"
   },
   "outputs": [
    {
     "name": "stdout",
     "output_type": "stream",
     "text": [
      "Requirement already satisfied: gradio in /usr/local/lib/python3.10/dist-packages (5.6.0)\n",
      "Requirement already satisfied: aiofiles<24.0,>=22.0 in /usr/local/lib/python3.10/dist-packages (from gradio) (23.2.1)\n",
      "Requirement already satisfied: anyio<5.0,>=3.0 in /usr/local/lib/python3.10/dist-packages (from gradio) (3.7.1)\n",
      "Requirement already satisfied: fastapi<1.0,>=0.115.2 in /usr/local/lib/python3.10/dist-packages (from gradio) (0.115.5)\n",
      "Requirement already satisfied: ffmpy in /usr/local/lib/python3.10/dist-packages (from gradio) (0.4.0)\n",
      "Requirement already satisfied: gradio-client==1.4.3 in /usr/local/lib/python3.10/dist-packages (from gradio) (1.4.3)\n",
      "Requirement already satisfied: httpx>=0.24.1 in /usr/local/lib/python3.10/dist-packages (from gradio) (0.27.2)\n",
      "Requirement already satisfied: huggingface-hub>=0.25.1 in /usr/local/lib/python3.10/dist-packages (from gradio) (0.26.2)\n",
      "Requirement already satisfied: jinja2<4.0 in /usr/local/lib/python3.10/dist-packages (from gradio) (3.1.4)\n",
      "Requirement already satisfied: markupsafe~=2.0 in /usr/local/lib/python3.10/dist-packages (from gradio) (2.1.5)\n",
      "Requirement already satisfied: numpy<3.0,>=1.0 in /usr/local/lib/python3.10/dist-packages (from gradio) (1.26.4)\n",
      "Requirement already satisfied: orjson~=3.0 in /usr/local/lib/python3.10/dist-packages (from gradio) (3.10.11)\n",
      "Requirement already satisfied: packaging in /usr/local/lib/python3.10/dist-packages (from gradio) (24.2)\n",
      "Requirement already satisfied: pandas<3.0,>=1.0 in /usr/local/lib/python3.10/dist-packages (from gradio) (2.2.2)\n",
      "Requirement already satisfied: pillow<12.0,>=8.0 in /usr/local/lib/python3.10/dist-packages (from gradio) (11.0.0)\n",
      "Requirement already satisfied: pydantic>=2.0 in /usr/local/lib/python3.10/dist-packages (from gradio) (2.9.2)\n",
      "Requirement already satisfied: pydub in /usr/local/lib/python3.10/dist-packages (from gradio) (0.25.1)\n",
      "Requirement already satisfied: python-multipart==0.0.12 in /usr/local/lib/python3.10/dist-packages (from gradio) (0.0.12)\n",
      "Requirement already satisfied: pyyaml<7.0,>=5.0 in /usr/local/lib/python3.10/dist-packages (from gradio) (6.0.2)\n",
      "Requirement already satisfied: ruff>=0.2.2 in /usr/local/lib/python3.10/dist-packages (from gradio) (0.8.0)\n",
      "Requirement already satisfied: safehttpx<1.0,>=0.1.1 in /usr/local/lib/python3.10/dist-packages (from gradio) (0.1.1)\n",
      "Requirement already satisfied: semantic-version~=2.0 in /usr/local/lib/python3.10/dist-packages (from gradio) (2.10.0)\n",
      "Requirement already satisfied: starlette<1.0,>=0.40.0 in /usr/local/lib/python3.10/dist-packages (from gradio) (0.41.3)\n",
      "Requirement already satisfied: tomlkit==0.12.0 in /usr/local/lib/python3.10/dist-packages (from gradio) (0.12.0)\n",
      "Requirement already satisfied: typer<1.0,>=0.12 in /usr/local/lib/python3.10/dist-packages (from gradio) (0.13.0)\n",
      "Requirement already satisfied: typing-extensions~=4.0 in /usr/local/lib/python3.10/dist-packages (from gradio) (4.12.2)\n",
      "Requirement already satisfied: uvicorn>=0.14.0 in /usr/local/lib/python3.10/dist-packages (from gradio) (0.32.1)\n",
      "Requirement already satisfied: fsspec in /usr/local/lib/python3.10/dist-packages (from gradio-client==1.4.3->gradio) (2024.10.0)\n",
      "Requirement already satisfied: websockets<13.0,>=10.0 in /usr/local/lib/python3.10/dist-packages (from gradio-client==1.4.3->gradio) (12.0)\n",
      "Requirement already satisfied: idna>=2.8 in /usr/local/lib/python3.10/dist-packages (from anyio<5.0,>=3.0->gradio) (3.10)\n",
      "Requirement already satisfied: sniffio>=1.1 in /usr/local/lib/python3.10/dist-packages (from anyio<5.0,>=3.0->gradio) (1.3.1)\n",
      "Requirement already satisfied: exceptiongroup in /usr/local/lib/python3.10/dist-packages (from anyio<5.0,>=3.0->gradio) (1.2.2)\n",
      "Requirement already satisfied: certifi in /usr/local/lib/python3.10/dist-packages (from httpx>=0.24.1->gradio) (2024.8.30)\n",
      "Requirement already satisfied: httpcore==1.* in /usr/local/lib/python3.10/dist-packages (from httpx>=0.24.1->gradio) (1.0.7)\n",
      "Requirement already satisfied: h11<0.15,>=0.13 in /usr/local/lib/python3.10/dist-packages (from httpcore==1.*->httpx>=0.24.1->gradio) (0.14.0)\n",
      "Requirement already satisfied: filelock in /usr/local/lib/python3.10/dist-packages (from huggingface-hub>=0.25.1->gradio) (3.16.1)\n",
      "Requirement already satisfied: requests in /usr/local/lib/python3.10/dist-packages (from huggingface-hub>=0.25.1->gradio) (2.32.3)\n",
      "Requirement already satisfied: tqdm>=4.42.1 in /usr/local/lib/python3.10/dist-packages (from huggingface-hub>=0.25.1->gradio) (4.66.6)\n",
      "Requirement already satisfied: python-dateutil>=2.8.2 in /usr/local/lib/python3.10/dist-packages (from pandas<3.0,>=1.0->gradio) (2.8.2)\n",
      "Requirement already satisfied: pytz>=2020.1 in /usr/local/lib/python3.10/dist-packages (from pandas<3.0,>=1.0->gradio) (2024.2)\n",
      "Requirement already satisfied: tzdata>=2022.7 in /usr/local/lib/python3.10/dist-packages (from pandas<3.0,>=1.0->gradio) (2024.2)\n",
      "Requirement already satisfied: annotated-types>=0.6.0 in /usr/local/lib/python3.10/dist-packages (from pydantic>=2.0->gradio) (0.7.0)\n",
      "Requirement already satisfied: pydantic-core==2.23.4 in /usr/local/lib/python3.10/dist-packages (from pydantic>=2.0->gradio) (2.23.4)\n",
      "Requirement already satisfied: click>=8.0.0 in /usr/local/lib/python3.10/dist-packages (from typer<1.0,>=0.12->gradio) (8.1.7)\n",
      "Requirement already satisfied: shellingham>=1.3.0 in /usr/local/lib/python3.10/dist-packages (from typer<1.0,>=0.12->gradio) (1.5.4)\n",
      "Requirement already satisfied: rich>=10.11.0 in /usr/local/lib/python3.10/dist-packages (from typer<1.0,>=0.12->gradio) (13.9.4)\n",
      "Requirement already satisfied: six>=1.5 in /usr/local/lib/python3.10/dist-packages (from python-dateutil>=2.8.2->pandas<3.0,>=1.0->gradio) (1.16.0)\n",
      "Requirement already satisfied: markdown-it-py>=2.2.0 in /usr/local/lib/python3.10/dist-packages (from rich>=10.11.0->typer<1.0,>=0.12->gradio) (3.0.0)\n",
      "Requirement already satisfied: pygments<3.0.0,>=2.13.0 in /usr/local/lib/python3.10/dist-packages (from rich>=10.11.0->typer<1.0,>=0.12->gradio) (2.18.0)\n",
      "Requirement already satisfied: charset-normalizer<4,>=2 in /usr/local/lib/python3.10/dist-packages (from requests->huggingface-hub>=0.25.1->gradio) (3.4.0)\n",
      "Requirement already satisfied: urllib3<3,>=1.21.1 in /usr/local/lib/python3.10/dist-packages (from requests->huggingface-hub>=0.25.1->gradio) (2.2.3)\n",
      "Requirement already satisfied: mdurl~=0.1 in /usr/local/lib/python3.10/dist-packages (from markdown-it-py>=2.2.0->rich>=10.11.0->typer<1.0,>=0.12->gradio) (0.1.2)\n"
     ]
    }
   ],
   "source": [
    "#!pip install streamlit\n",
    "!pip install gradio\n"
   ]
  },
  {
   "cell_type": "code",
   "execution_count": 25,
   "metadata": {
    "colab": {
     "base_uri": "https://localhost:8080/",
     "height": 611
    },
    "id": "LTbAFGSDT-v0",
    "outputId": "d7ca33ff-f1f2-4763-a3e9-318936b27188"
   },
   "outputs": [
    {
     "name": "stdout",
     "output_type": "stream",
     "text": [
      "Colab notebook detected. To show errors in colab notebook, set debug=True in launch()\n",
      "* Running on public URL: https://01c40dbecde1c4869d.gradio.live\n",
      "\n",
      "This share link expires in 72 hours. For free permanent hosting and GPU upgrades, run `gradio deploy` from the terminal in the working directory to deploy to Hugging Face Spaces (https://huggingface.co/spaces)\n"
     ]
    },
    {
     "data": {
      "text/html": [
       "<div><iframe src=\"https://01c40dbecde1c4869d.gradio.live\" width=\"100%\" height=\"500\" allow=\"autoplay; camera; microphone; clipboard-read; clipboard-write;\" frameborder=\"0\" allowfullscreen></iframe></div>"
      ],
      "text/plain": [
       "<IPython.core.display.HTML object>"
      ]
     },
     "metadata": {},
     "output_type": "display_data"
    },
    {
     "data": {
      "text/plain": []
     },
     "execution_count": 25,
     "metadata": {},
     "output_type": "execute_result"
    }
   ],
   "source": [
    "# import streamlit as st\n",
    "# # Streamlit UI Setup\n",
    "# st.title(\"Material Inspection Data Query Assistant\")\n",
    "# st.write(\"Ask a question about the material inspection data.\")\n",
    "#\n",
    "# # Input for user question\n",
    "# user_question = st.text_input(\"Enter your question:\")\n",
    "#\n",
    "# if user_question:\n",
    "#     # Get the answer to the user's question\n",
    "#     answer = query_inspection_data(user_question)\n",
    "#\n",
    "#     # Display the result\n",
    "#     st.write(f\"**Answer**: {answer}\")\n",
    "\n",
    "import gradio as gr\n",
    "\n",
    "# Create Gradio interface\n",
    "def gradio_query_interface(user_question):\n",
    "    try:\n",
    "        answer = query_inspection_data(user_question)\n",
    "        return answer\n",
    "    except Exception as e:\n",
    "        return f\"An error occurred: {str(e)}\"\n",
    "\n",
    "# Set up the Gradio interface\n",
    "iface = gr.Interface(\n",
    "    fn=gradio_query_interface,\n",
    "    inputs=gr.Textbox(lines=2, placeholder=\"Enter your question about material inspection data...\"),\n",
    "    outputs=\"text\",\n",
    "    title=\"Material Inspection Data Query Assistant\",\n",
    "    description=\"Ask questions about the material inspection data in natural language.\",\n",
    "    examples=[\n",
    "        [\"How many materials passed inspection?\"],\n",
    "        [\"What are the reference dimensions?\"],\n",
    "        [\"Show me details of failed materials\"],\n",
    "        [\"What is the tolerance for block dimensions?\"]\n",
    "    ]\n",
    ")\n",
    "\n",
    "# Launch the interface\n",
    "iface.launch(share=True)"
   ]
  },
  {
   "cell_type": "code",
   "execution_count": 18,
   "metadata": {
    "id": "LCIYCf6chyCL"
   },
   "outputs": [],
   "source": [
    "!pip freeze > requirements.txt\n"
   ]
  }
 ],
 "metadata": {
  "colab": {
   "provenance": []
  },
  "kernelspec": {
   "display_name": "Python 3",
   "name": "python3"
  },
  "language_info": {
   "name": "python"
  }
 },
 "nbformat": 4,
 "nbformat_minor": 0
}
